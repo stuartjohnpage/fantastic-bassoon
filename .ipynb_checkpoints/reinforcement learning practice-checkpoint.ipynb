{
 "cells": [
  {
   "cell_type": "code",
   "execution_count": 31,
   "id": "bd74e8d9",
   "metadata": {
    "scrolled": true
   },
   "outputs": [
    {
     "name": "stdout",
     "output_type": "stream",
     "text": [
      "Requirement already satisfied: stable-baselines3[extra] in /Users/stuart/opt/miniconda3/envs/rl-learning/lib/python3.10/site-packages (2.1.0)\n",
      "Requirement already satisfied: gymnasium<0.30,>=0.28.1 in /Users/stuart/opt/miniconda3/envs/rl-learning/lib/python3.10/site-packages (from stable-baselines3[extra]) (0.29.1)\n",
      "Requirement already satisfied: numpy>=1.20 in /Users/stuart/opt/miniconda3/envs/rl-learning/lib/python3.10/site-packages (from stable-baselines3[extra]) (1.26.1)\n",
      "Requirement already satisfied: torch>=1.13 in /Users/stuart/opt/miniconda3/envs/rl-learning/lib/python3.10/site-packages (from stable-baselines3[extra]) (2.1.0)\n",
      "Requirement already satisfied: cloudpickle in /Users/stuart/opt/miniconda3/envs/rl-learning/lib/python3.10/site-packages (from stable-baselines3[extra]) (3.0.0)\n",
      "Requirement already satisfied: pandas in /Users/stuart/opt/miniconda3/envs/rl-learning/lib/python3.10/site-packages (from stable-baselines3[extra]) (2.1.2)\n",
      "Requirement already satisfied: matplotlib in /Users/stuart/opt/miniconda3/envs/rl-learning/lib/python3.10/site-packages (from stable-baselines3[extra]) (3.8.1)\n",
      "Requirement already satisfied: opencv-python in /Users/stuart/opt/miniconda3/envs/rl-learning/lib/python3.10/site-packages (from stable-baselines3[extra]) (4.8.1.78)\n",
      "Requirement already satisfied: pygame in /Users/stuart/opt/miniconda3/envs/rl-learning/lib/python3.10/site-packages (from stable-baselines3[extra]) (2.5.2)\n",
      "Requirement already satisfied: tensorboard>=2.9.1 in /Users/stuart/opt/miniconda3/envs/rl-learning/lib/python3.10/site-packages (from stable-baselines3[extra]) (2.15.1)\n",
      "Requirement already satisfied: psutil in /Users/stuart/opt/miniconda3/envs/rl-learning/lib/python3.10/site-packages (from stable-baselines3[extra]) (5.9.0)\n",
      "Requirement already satisfied: tqdm in /Users/stuart/opt/miniconda3/envs/rl-learning/lib/python3.10/site-packages (from stable-baselines3[extra]) (4.66.1)\n",
      "Requirement already satisfied: rich in /Users/stuart/opt/miniconda3/envs/rl-learning/lib/python3.10/site-packages (from stable-baselines3[extra]) (13.6.0)\n",
      "Requirement already satisfied: shimmy~=1.1.0 in /Users/stuart/opt/miniconda3/envs/rl-learning/lib/python3.10/site-packages (from shimmy[atari]~=1.1.0; extra == \"extra\"->stable-baselines3[extra]) (1.1.0)\n",
      "Requirement already satisfied: pillow in /Users/stuart/opt/miniconda3/envs/rl-learning/lib/python3.10/site-packages (from stable-baselines3[extra]) (10.1.0)\n",
      "Requirement already satisfied: autorom~=0.6.1 in /Users/stuart/opt/miniconda3/envs/rl-learning/lib/python3.10/site-packages (from autorom[accept-rom-license]~=0.6.1; extra == \"extra\"->stable-baselines3[extra]) (0.6.1)\n",
      "Requirement already satisfied: click in /Users/stuart/opt/miniconda3/envs/rl-learning/lib/python3.10/site-packages (from autorom~=0.6.1->autorom[accept-rom-license]~=0.6.1; extra == \"extra\"->stable-baselines3[extra]) (8.1.7)\n",
      "Requirement already satisfied: requests in /Users/stuart/opt/miniconda3/envs/rl-learning/lib/python3.10/site-packages (from autorom~=0.6.1->autorom[accept-rom-license]~=0.6.1; extra == \"extra\"->stable-baselines3[extra]) (2.31.0)\n",
      "Requirement already satisfied: AutoROM.accept-rom-license in /Users/stuart/opt/miniconda3/envs/rl-learning/lib/python3.10/site-packages (from autorom[accept-rom-license]~=0.6.1; extra == \"extra\"->stable-baselines3[extra]) (0.6.1)\n",
      "Requirement already satisfied: typing-extensions>=4.3.0 in /Users/stuart/opt/miniconda3/envs/rl-learning/lib/python3.10/site-packages (from gymnasium<0.30,>=0.28.1->stable-baselines3[extra]) (4.7.1)\n",
      "Requirement already satisfied: farama-notifications>=0.0.1 in /Users/stuart/opt/miniconda3/envs/rl-learning/lib/python3.10/site-packages (from gymnasium<0.30,>=0.28.1->stable-baselines3[extra]) (0.0.4)\n",
      "Requirement already satisfied: ale-py~=0.8.1 in /Users/stuart/opt/miniconda3/envs/rl-learning/lib/python3.10/site-packages (from shimmy[atari]~=1.1.0; extra == \"extra\"->stable-baselines3[extra]) (0.8.1)\n",
      "Requirement already satisfied: absl-py>=0.4 in /Users/stuart/opt/miniconda3/envs/rl-learning/lib/python3.10/site-packages (from tensorboard>=2.9.1->stable-baselines3[extra]) (2.0.0)\n",
      "Requirement already satisfied: grpcio>=1.48.2 in /Users/stuart/opt/miniconda3/envs/rl-learning/lib/python3.10/site-packages (from tensorboard>=2.9.1->stable-baselines3[extra]) (1.59.2)\n",
      "Requirement already satisfied: google-auth<3,>=1.6.3 in /Users/stuart/opt/miniconda3/envs/rl-learning/lib/python3.10/site-packages (from tensorboard>=2.9.1->stable-baselines3[extra]) (2.23.4)\n",
      "Requirement already satisfied: google-auth-oauthlib<2,>=0.5 in /Users/stuart/opt/miniconda3/envs/rl-learning/lib/python3.10/site-packages (from tensorboard>=2.9.1->stable-baselines3[extra]) (1.1.0)\n",
      "Requirement already satisfied: markdown>=2.6.8 in /Users/stuart/opt/miniconda3/envs/rl-learning/lib/python3.10/site-packages (from tensorboard>=2.9.1->stable-baselines3[extra]) (3.5.1)\n",
      "Requirement already satisfied: protobuf<4.24,>=3.19.6 in /Users/stuart/opt/miniconda3/envs/rl-learning/lib/python3.10/site-packages (from tensorboard>=2.9.1->stable-baselines3[extra]) (4.23.4)\n",
      "Requirement already satisfied: setuptools>=41.0.0 in /Users/stuart/opt/miniconda3/envs/rl-learning/lib/python3.10/site-packages (from tensorboard>=2.9.1->stable-baselines3[extra]) (68.0.0)\n",
      "Requirement already satisfied: six>1.9 in /Users/stuart/opt/miniconda3/envs/rl-learning/lib/python3.10/site-packages (from tensorboard>=2.9.1->stable-baselines3[extra]) (1.16.0)\n",
      "Requirement already satisfied: tensorboard-data-server<0.8.0,>=0.7.0 in /Users/stuart/opt/miniconda3/envs/rl-learning/lib/python3.10/site-packages (from tensorboard>=2.9.1->stable-baselines3[extra]) (0.7.2)\n",
      "Requirement already satisfied: werkzeug>=1.0.1 in /Users/stuart/opt/miniconda3/envs/rl-learning/lib/python3.10/site-packages (from tensorboard>=2.9.1->stable-baselines3[extra]) (3.0.1)\n",
      "Requirement already satisfied: filelock in /Users/stuart/opt/miniconda3/envs/rl-learning/lib/python3.10/site-packages (from torch>=1.13->stable-baselines3[extra]) (3.13.1)\n",
      "Requirement already satisfied: sympy in /Users/stuart/opt/miniconda3/envs/rl-learning/lib/python3.10/site-packages (from torch>=1.13->stable-baselines3[extra]) (1.12)\n",
      "Requirement already satisfied: networkx in /Users/stuart/opt/miniconda3/envs/rl-learning/lib/python3.10/site-packages (from torch>=1.13->stable-baselines3[extra]) (3.2.1)\n",
      "Requirement already satisfied: jinja2 in /Users/stuart/opt/miniconda3/envs/rl-learning/lib/python3.10/site-packages (from torch>=1.13->stable-baselines3[extra]) (3.1.2)\n",
      "Requirement already satisfied: fsspec in /Users/stuart/opt/miniconda3/envs/rl-learning/lib/python3.10/site-packages (from torch>=1.13->stable-baselines3[extra]) (2023.10.0)\n",
      "Requirement already satisfied: contourpy>=1.0.1 in /Users/stuart/opt/miniconda3/envs/rl-learning/lib/python3.10/site-packages (from matplotlib->stable-baselines3[extra]) (1.2.0)\n",
      "Requirement already satisfied: cycler>=0.10 in /Users/stuart/opt/miniconda3/envs/rl-learning/lib/python3.10/site-packages (from matplotlib->stable-baselines3[extra]) (0.12.1)\n",
      "Requirement already satisfied: fonttools>=4.22.0 in /Users/stuart/opt/miniconda3/envs/rl-learning/lib/python3.10/site-packages (from matplotlib->stable-baselines3[extra]) (4.44.0)\n",
      "Requirement already satisfied: kiwisolver>=1.3.1 in /Users/stuart/opt/miniconda3/envs/rl-learning/lib/python3.10/site-packages (from matplotlib->stable-baselines3[extra]) (1.4.5)\n",
      "Requirement already satisfied: packaging>=20.0 in /Users/stuart/opt/miniconda3/envs/rl-learning/lib/python3.10/site-packages (from matplotlib->stable-baselines3[extra]) (23.1)\n",
      "Requirement already satisfied: pyparsing>=2.3.1 in /Users/stuart/opt/miniconda3/envs/rl-learning/lib/python3.10/site-packages (from matplotlib->stable-baselines3[extra]) (3.1.1)\n",
      "Requirement already satisfied: python-dateutil>=2.7 in /Users/stuart/opt/miniconda3/envs/rl-learning/lib/python3.10/site-packages (from matplotlib->stable-baselines3[extra]) (2.8.2)\n",
      "Requirement already satisfied: pytz>=2020.1 in /Users/stuart/opt/miniconda3/envs/rl-learning/lib/python3.10/site-packages (from pandas->stable-baselines3[extra]) (2023.3.post1)\n",
      "Requirement already satisfied: tzdata>=2022.1 in /Users/stuart/opt/miniconda3/envs/rl-learning/lib/python3.10/site-packages (from pandas->stable-baselines3[extra]) (2023.3)\n",
      "Requirement already satisfied: markdown-it-py>=2.2.0 in /Users/stuart/opt/miniconda3/envs/rl-learning/lib/python3.10/site-packages (from rich->stable-baselines3[extra]) (3.0.0)\n",
      "Requirement already satisfied: pygments<3.0.0,>=2.13.0 in /Users/stuart/opt/miniconda3/envs/rl-learning/lib/python3.10/site-packages (from rich->stable-baselines3[extra]) (2.15.1)\n",
      "Requirement already satisfied: importlib-resources in /Users/stuart/opt/miniconda3/envs/rl-learning/lib/python3.10/site-packages (from ale-py~=0.8.1->shimmy[atari]~=1.1.0; extra == \"extra\"->stable-baselines3[extra]) (6.1.1)\n"
     ]
    },
    {
     "name": "stdout",
     "output_type": "stream",
     "text": [
      "Requirement already satisfied: cachetools<6.0,>=2.0.0 in /Users/stuart/opt/miniconda3/envs/rl-learning/lib/python3.10/site-packages (from google-auth<3,>=1.6.3->tensorboard>=2.9.1->stable-baselines3[extra]) (5.3.2)\n",
      "Requirement already satisfied: pyasn1-modules>=0.2.1 in /Users/stuart/opt/miniconda3/envs/rl-learning/lib/python3.10/site-packages (from google-auth<3,>=1.6.3->tensorboard>=2.9.1->stable-baselines3[extra]) (0.3.0)\n",
      "Requirement already satisfied: rsa<5,>=3.1.4 in /Users/stuart/opt/miniconda3/envs/rl-learning/lib/python3.10/site-packages (from google-auth<3,>=1.6.3->tensorboard>=2.9.1->stable-baselines3[extra]) (4.9)\n",
      "Requirement already satisfied: requests-oauthlib>=0.7.0 in /Users/stuart/opt/miniconda3/envs/rl-learning/lib/python3.10/site-packages (from google-auth-oauthlib<2,>=0.5->tensorboard>=2.9.1->stable-baselines3[extra]) (1.3.1)\n",
      "Requirement already satisfied: mdurl~=0.1 in /Users/stuart/opt/miniconda3/envs/rl-learning/lib/python3.10/site-packages (from markdown-it-py>=2.2.0->rich->stable-baselines3[extra]) (0.1.2)\n",
      "Requirement already satisfied: charset-normalizer<4,>=2 in /Users/stuart/opt/miniconda3/envs/rl-learning/lib/python3.10/site-packages (from requests->autorom~=0.6.1->autorom[accept-rom-license]~=0.6.1; extra == \"extra\"->stable-baselines3[extra]) (2.0.4)\n",
      "Requirement already satisfied: idna<4,>=2.5 in /Users/stuart/opt/miniconda3/envs/rl-learning/lib/python3.10/site-packages (from requests->autorom~=0.6.1->autorom[accept-rom-license]~=0.6.1; extra == \"extra\"->stable-baselines3[extra]) (3.4)\n",
      "Requirement already satisfied: urllib3<3,>=1.21.1 in /Users/stuart/opt/miniconda3/envs/rl-learning/lib/python3.10/site-packages (from requests->autorom~=0.6.1->autorom[accept-rom-license]~=0.6.1; extra == \"extra\"->stable-baselines3[extra]) (1.26.18)\n",
      "Requirement already satisfied: certifi>=2017.4.17 in /Users/stuart/opt/miniconda3/envs/rl-learning/lib/python3.10/site-packages (from requests->autorom~=0.6.1->autorom[accept-rom-license]~=0.6.1; extra == \"extra\"->stable-baselines3[extra]) (2023.7.22)\n",
      "Requirement already satisfied: MarkupSafe>=2.1.1 in /Users/stuart/opt/miniconda3/envs/rl-learning/lib/python3.10/site-packages (from werkzeug>=1.0.1->tensorboard>=2.9.1->stable-baselines3[extra]) (2.1.1)\n",
      "Requirement already satisfied: mpmath>=0.19 in /Users/stuart/opt/miniconda3/envs/rl-learning/lib/python3.10/site-packages (from sympy->torch>=1.13->stable-baselines3[extra]) (1.3.0)\n",
      "Requirement already satisfied: pyasn1<0.6.0,>=0.4.6 in /Users/stuart/opt/miniconda3/envs/rl-learning/lib/python3.10/site-packages (from pyasn1-modules>=0.2.1->google-auth<3,>=1.6.3->tensorboard>=2.9.1->stable-baselines3[extra]) (0.5.0)\n",
      "Requirement already satisfied: oauthlib>=3.0.0 in /Users/stuart/opt/miniconda3/envs/rl-learning/lib/python3.10/site-packages (from requests-oauthlib>=0.7.0->google-auth-oauthlib<2,>=0.5->tensorboard>=2.9.1->stable-baselines3[extra]) (3.2.2)\n",
      "Requirement already satisfied: gymnasium in /Users/stuart/opt/miniconda3/envs/rl-learning/lib/python3.10/site-packages (0.29.1)\n",
      "Requirement already satisfied: numpy>=1.21.0 in /Users/stuart/opt/miniconda3/envs/rl-learning/lib/python3.10/site-packages (from gymnasium) (1.26.1)\n",
      "Requirement already satisfied: cloudpickle>=1.2.0 in /Users/stuart/opt/miniconda3/envs/rl-learning/lib/python3.10/site-packages (from gymnasium) (3.0.0)\n",
      "Requirement already satisfied: typing-extensions>=4.3.0 in /Users/stuart/opt/miniconda3/envs/rl-learning/lib/python3.10/site-packages (from gymnasium) (4.7.1)\n",
      "Requirement already satisfied: farama-notifications>=0.0.1 in /Users/stuart/opt/miniconda3/envs/rl-learning/lib/python3.10/site-packages (from gymnasium) (0.0.4)\n"
     ]
    }
   ],
   "source": [
    "!pip install 'stable-baselines3[extra]'\n",
    "!pip install gymnasium"
   ]
  },
  {
   "cell_type": "code",
   "execution_count": 1,
   "id": "2c8e84ab",
   "metadata": {},
   "outputs": [],
   "source": [
    "import os\n",
    "import gymnasium as gym # https://gymnasium.farama.org/\n",
    "from stable_baselines3 import PPO # first algorithm - https://stable-baselines3.readthedocs.io/en/master/modules/ppo.html\n",
    "from stable_baselines3.common.vec_env import DummyVecEnv # vectorise environments\n",
    "from stable_baselines3.common.evaluation import evaluate_policy # easier to test how the model is actually performing"
   ]
  },
  {
   "cell_type": "markdown",
   "id": "ea816d69",
   "metadata": {},
   "source": []
  },
  {
   "cell_type": "markdown",
   "id": "566731ab",
   "metadata": {},
   "source": [
    "Learnings so far: gym is now called gymnasium, make sure you use '' around `stable-baselines3[extra]` when using pip, CartPole-v0 is deprecated, returned 5 values not 4 (done is deprecated, truncated is added)"
   ]
  },
  {
   "cell_type": "code",
   "execution_count": 2,
   "id": "d9c33e7a",
   "metadata": {},
   "outputs": [],
   "source": [
    "environment_name = 'CartPole-v1'\n",
    "env = gym.make(environment_name, render_mode=\"rgb_array\")"
   ]
  },
  {
   "cell_type": "code",
   "execution_count": null,
   "id": "4ca36349",
   "metadata": {},
   "outputs": [
    {
     "name": "stdout",
     "output_type": "stream",
     "text": [
      "Episode:1 Score:17.0\n",
      "Episode:2 Score:18.0\n",
      "Episode:3 Score:11.0\n",
      "Episode:4 Score:17.0\n",
      "Episode:5 Score:31.0\n",
      "Episode:6 Score:67.0\n",
      "Episode:7 Score:10.0\n",
      "Episode:8 Score:23.0\n",
      "Episode:9 Score:9.0\n",
      "Episode:10 Score:13.0\n",
      "Episode:11 Score:29.0\n",
      "Episode:12 Score:19.0\n",
      "Episode:13 Score:23.0\n",
      "Episode:14 Score:34.0\n",
      "Episode:15 Score:18.0\n",
      "Episode:16 Score:28.0\n",
      "Episode:17 Score:37.0\n",
      "Episode:18 Score:50.0\n",
      "Episode:19 Score:44.0\n",
      "Episode:20 Score:73.0\n",
      "Episode:21 Score:8.0\n",
      "Episode:22 Score:34.0\n",
      "Episode:23 Score:18.0\n",
      "Episode:24 Score:20.0\n",
      "Episode:25 Score:53.0\n",
      "Episode:26 Score:18.0\n",
      "Episode:27 Score:26.0\n",
      "Episode:28 Score:17.0\n",
      "Episode:29 Score:12.0\n",
      "Episode:30 Score:27.0\n",
      "Episode:31 Score:48.0\n",
      "Episode:32 Score:33.0\n",
      "Episode:33 Score:41.0\n",
      "Episode:34 Score:13.0\n",
      "Episode:35 Score:18.0\n",
      "Episode:36 Score:18.0\n",
      "Episode:37 Score:18.0\n",
      "Episode:38 Score:12.0\n",
      "Episode:39 Score:39.0\n",
      "Episode:40 Score:11.0\n",
      "Episode:41 Score:13.0\n",
      "Episode:42 Score:18.0\n",
      "Episode:43 Score:14.0\n",
      "Episode:44 Score:17.0\n",
      "Episode:45 Score:17.0\n",
      "Episode:46 Score:50.0\n",
      "Episode:47 Score:20.0\n",
      "Episode:48 Score:21.0\n",
      "Episode:49 Score:14.0\n",
      "Episode:50 Score:16.0\n",
      "Episode:51 Score:30.0\n",
      "Episode:52 Score:14.0\n",
      "Episode:53 Score:29.0\n",
      "Episode:54 Score:22.0\n",
      "Episode:55 Score:19.0\n",
      "Episode:56 Score:17.0\n",
      "Episode:57 Score:16.0\n",
      "Episode:58 Score:14.0\n",
      "Episode:59 Score:21.0\n",
      "Episode:60 Score:55.0\n",
      "Episode:61 Score:23.0\n",
      "Episode:62 Score:31.0\n",
      "Episode:63 Score:27.0\n",
      "Episode:64 Score:26.0\n",
      "Episode:65 Score:41.0\n",
      "Episode:66 Score:33.0\n",
      "Episode:67 Score:37.0\n",
      "Episode:68 Score:29.0\n",
      "Episode:69 Score:17.0\n",
      "Episode:70 Score:21.0\n",
      "Episode:71 Score:14.0\n",
      "Episode:72 Score:15.0\n",
      "Episode:73 Score:26.0\n",
      "Episode:74 Score:17.0\n",
      "Episode:75 Score:50.0\n",
      "Episode:76 Score:25.0\n",
      "Episode:77 Score:18.0\n",
      "Episode:78 Score:28.0\n",
      "Episode:79 Score:85.0\n",
      "Episode:80 Score:70.0\n",
      "Episode:81 Score:14.0\n",
      "Episode:82 Score:21.0\n",
      "Episode:83 Score:34.0\n",
      "Episode:84 Score:35.0\n",
      "Episode:85 Score:15.0\n",
      "Episode:86 Score:13.0\n",
      "Episode:87 Score:29.0\n",
      "Episode:88 Score:48.0\n",
      "Episode:89 Score:33.0\n",
      "Episode:90 Score:24.0\n",
      "Episode:91 Score:15.0\n",
      "Episode:92 Score:12.0\n",
      "Episode:93 Score:44.0\n",
      "Episode:94 Score:15.0\n",
      "Episode:95 Score:23.0\n"
     ]
    }
   ],
   "source": [
    "episodes = 100 # Think of an episode as one full game within the environment. Some environments have a fixed length. CartPole is 200 frames Others are continuous, eg, play until not more lives left\n",
    "for episode in range(1, episodes+1):\n",
    "    state = env.reset()\n",
    "    terminated = False\n",
    "    truncated = False\n",
    "    score = 0\n",
    "    \n",
    "    # Action Space - actions you can take in your environment\n",
    "    # Observation Space - what your observations look like, a partial view. Here we have a Box environment\n",
    "    #main actions - env.reset env.render env.setp env.close\n",
    "    \n",
    "    while not terminated or not truncated:\n",
    "        env.render()\n",
    "        action = env.action_space.sample() # It's a discrete two action space, 0 or 1 Discrete(2)\n",
    "        n_state, reward, terminated, truncated, info = env.step(action)\n",
    "        score += reward\n",
    "    print('Episode:{} Score:{}'.format(episode, score))\n",
    "# env.close()"
   ]
  },
  {
   "cell_type": "code",
   "execution_count": 4,
   "id": "3f0b5dc4",
   "metadata": {},
   "outputs": [],
   "source": []
  },
  {
   "cell_type": "code",
   "execution_count": null,
   "id": "c99956f6",
   "metadata": {},
   "outputs": [],
   "source": []
  },
  {
   "cell_type": "code",
   "execution_count": null,
   "id": "e49a8a22",
   "metadata": {},
   "outputs": [],
   "source": []
  }
 ],
 "metadata": {
  "kernelspec": {
   "display_name": "Python 3 (ipykernel)",
   "language": "python",
   "name": "python3"
  },
  "language_info": {
   "codemirror_mode": {
    "name": "ipython",
    "version": 3
   },
   "file_extension": ".py",
   "mimetype": "text/x-python",
   "name": "python",
   "nbconvert_exporter": "python",
   "pygments_lexer": "ipython3",
   "version": "3.10.13"
  },
  "widgets": {
   "application/vnd.jupyter.widget-state+json": {
    "state": {},
    "version_major": 2,
    "version_minor": 0
   }
  }
 },
 "nbformat": 4,
 "nbformat_minor": 5
}
